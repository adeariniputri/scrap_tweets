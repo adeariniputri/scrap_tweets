{
 "cells": [
  {
   "cell_type": "code",
   "execution_count": 1,
   "id": "7cecfd35",
   "metadata": {},
   "outputs": [
    {
     "name": "stdout",
     "output_type": "stream",
     "text": [
      "Collecting tweepy\n",
      "  Using cached tweepy-4.12.1-py3-none-any.whl (101 kB)\n",
      "Requirement already satisfied: requests-oauthlib<2,>=1.2.0 in c:\\users\\ebdesk\\anaconda3\\lib\\site-packages (from tweepy) (1.3.0)\n",
      "Requirement already satisfied: requests<3,>=2.27.0 in c:\\users\\ebdesk\\anaconda3\\lib\\site-packages (from tweepy) (2.28.1)\n",
      "Collecting oauthlib<4,>=3.2.0\n",
      "  Using cached oauthlib-3.2.2-py3-none-any.whl (151 kB)\n",
      "Requirement already satisfied: urllib3<1.27,>=1.21.1 in c:\\users\\ebdesk\\anaconda3\\lib\\site-packages (from requests<3,>=2.27.0->tweepy) (1.26.4)\n",
      "Requirement already satisfied: charset-normalizer<3,>=2 in c:\\users\\ebdesk\\anaconda3\\lib\\site-packages (from requests<3,>=2.27.0->tweepy) (2.1.0)\n",
      "Requirement already satisfied: idna<4,>=2.5 in c:\\users\\ebdesk\\anaconda3\\lib\\site-packages (from requests<3,>=2.27.0->tweepy) (2.10)\n",
      "Requirement already satisfied: certifi>=2017.4.17 in c:\\users\\ebdesk\\anaconda3\\lib\\site-packages (from requests<3,>=2.27.0->tweepy) (2022.9.24)\n",
      "Installing collected packages: oauthlib, tweepy\n",
      "  Attempting uninstall: oauthlib\n",
      "    Found existing installation: oauthlib 3.1.1\n",
      "    Uninstalling oauthlib-3.1.1:\n",
      "      Successfully uninstalled oauthlib-3.1.1\n",
      "Successfully installed oauthlib-3.2.2 tweepy-4.12.1\n"
     ]
    }
   ],
   "source": [
    "!pip install tweepy"
   ]
  },
  {
   "cell_type": "code",
   "execution_count": 3,
   "id": "8f81c114",
   "metadata": {},
   "outputs": [
    {
     "name": "stdout",
     "output_type": "stream",
     "text": [
      "Collecting config\n",
      "  Downloading config-0.5.1-py2.py3-none-any.whl (20 kB)\n",
      "Installing collected packages: config\n",
      "Successfully installed config-0.5.1\n"
     ]
    }
   ],
   "source": [
    "!pip install config"
   ]
  },
  {
   "cell_type": "code",
   "execution_count": 4,
   "id": "ca98ffd9",
   "metadata": {},
   "outputs": [],
   "source": [
    "import pandas as pd \n",
    "import tweepy \n",
    "import config\n",
    "import csv"
   ]
  },
  {
   "cell_type": "code",
   "execution_count": 5,
   "id": "2c831c83",
   "metadata": {},
   "outputs": [],
   "source": [
    "CONSUMER_KEY = 'Masukkan consumer key'\n",
    "CONSUMER_SECRET = 'masukkan cust secret'\n",
    "ACCESS_TOKEN = 'masukkan token akses'\n",
    "ACCESS_TOKEN_SECRET = 'masukkan token akses secret'"
   ]
  },
  {
   "cell_type": "code",
   "execution_count": 6,
   "id": "f9b745c5",
   "metadata": {},
   "outputs": [],
   "source": [
    "def auth():\n",
    "    try:\n",
    "        auth = tweepy.OAuthHandler(config.CONSUMER_KEY, config.CONSUMER_SECRET)\n",
    "        auth.set_access_token(config.ACCESS_TOKEN, config.ACCESS_TOKEN_SECRET)\n",
    "        api = tweepy.API(auth)\n",
    "    except:\n",
    "        print(\"An error occurred during the authentication\")\n",
    "    \n",
    "    return api"
   ]
  },
  {
   "cell_type": "code",
   "execution_count": 7,
   "id": "7f69d7af",
   "metadata": {},
   "outputs": [],
   "source": [
    "def search_by_hashtag(api, date_since, date_until, words):\n",
    "    df = pd.DataFrame(columns=['id', 'created_at', 'username', 'location', 'following', \n",
    "                               'followers', 'retweetcount', 'text']) \n",
    "    tweets = tweepy.Cursor(api.search, q=words, lang=\"it\", wait_on_rate_limit=True,\n",
    "                           since=date_since, until=date_until, tweet_mode='extended').items() \n",
    "    list_tweets = [tweet for tweet in tweets] \n",
    "         \n",
    "    for tweet in list_tweets: \n",
    "        id = tweet.id\n",
    "        created_at = tweet.created_at\n",
    "        username = tweet.user.screen_name \n",
    "        location = tweet.user.location \n",
    "        following = tweet.user.friends_count \n",
    "        followers = tweet.user.followers_count \n",
    "        totaltweets = tweet.user.statuses_count \n",
    "        retweetcount = tweet.retweet_count \n",
    "\n",
    "        try: \n",
    "            text = tweet.retweeted_status.full_text \n",
    "        except AttributeError: \n",
    "            text = tweet.full_text \n",
    "  \n",
    "        tweets = [id, created_at, username, location, following, \n",
    "                     followers, retweetcount, text] \n",
    "\n",
    "        df.loc[len(df)] = tweets \n",
    "          \n",
    "    filename = 'tweets.csv'\n",
    "    df.to_csv(filename) "
   ]
  },
  {
   "cell_type": "code",
   "execution_count": 9,
   "id": "701974d3",
   "metadata": {},
   "outputs": [],
   "source": [
    "api = auth()\n",
    "words = \"jokowi\"\n",
    "date_since = \"2022-12-18\"\n",
    "date_until = \"2022-12-19\"\n",
    "search_by_hashtag(api, date_since, date_until, words)"
   ]
  },
  {
   "cell_type": "code",
   "execution_count": null,
   "id": "0cfbcd4a",
   "metadata": {},
   "outputs": [],
   "source": []
  }
 ],
 "metadata": {
  "kernelspec": {
   "display_name": "Python 3",
   "language": "python",
   "name": "python3"
  },
  "language_info": {
   "codemirror_mode": {
    "name": "ipython",
    "version": 3
   },
   "file_extension": ".py",
   "mimetype": "text/x-python",
   "name": "python",
   "nbconvert_exporter": "python",
   "pygments_lexer": "ipython3",
   "version": "3.8.8"
  }
 },
 "nbformat": 4,
 "nbformat_minor": 5
}
